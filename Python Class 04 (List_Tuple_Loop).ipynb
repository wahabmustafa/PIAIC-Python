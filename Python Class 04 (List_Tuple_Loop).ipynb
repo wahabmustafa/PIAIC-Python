{
 "cells": [
  {
   "cell_type": "code",
   "execution_count": 3,
   "metadata": {},
   "outputs": [
    {
     "name": "stdout",
     "output_type": "stream",
     "text": [
      "C\n",
      "C\n"
     ]
    }
   ],
   "source": [
    "#index   0    1    2\n",
    "names = [\"A\", \"B\", \"C\"]\n",
    "#minus  -3   -2   -1\n",
    "\n",
    "print(names[2])\n",
    "print(names[-1])"
   ]
  },
  {
   "cell_type": "code",
   "execution_count": 2,
   "metadata": {},
   "outputs": [
    {
     "data": {
      "text/plain": [
       "['__add__',\n",
       " '__class__',\n",
       " '__contains__',\n",
       " '__delattr__',\n",
       " '__delitem__',\n",
       " '__dir__',\n",
       " '__doc__',\n",
       " '__eq__',\n",
       " '__format__',\n",
       " '__ge__',\n",
       " '__getattribute__',\n",
       " '__getitem__',\n",
       " '__gt__',\n",
       " '__hash__',\n",
       " '__iadd__',\n",
       " '__imul__',\n",
       " '__init__',\n",
       " '__init_subclass__',\n",
       " '__iter__',\n",
       " '__le__',\n",
       " '__len__',\n",
       " '__lt__',\n",
       " '__mul__',\n",
       " '__ne__',\n",
       " '__new__',\n",
       " '__reduce__',\n",
       " '__reduce_ex__',\n",
       " '__repr__',\n",
       " '__reversed__',\n",
       " '__rmul__',\n",
       " '__setattr__',\n",
       " '__setitem__',\n",
       " '__sizeof__',\n",
       " '__str__',\n",
       " '__subclasshook__',\n",
       " 'append',\n",
       " 'clear',\n",
       " 'copy',\n",
       " 'count',\n",
       " 'extend',\n",
       " 'index',\n",
       " 'insert',\n",
       " 'pop',\n",
       " 'remove',\n",
       " 'reverse',\n",
       " 'sort']"
      ]
     },
     "execution_count": 2,
     "metadata": {},
     "output_type": "execute_result"
    }
   ],
   "source": [
    "dir(list)"
   ]
  },
  {
   "cell_type": "code",
   "execution_count": 4,
   "metadata": {},
   "outputs": [
    {
     "data": {
      "text/plain": [
       "46"
      ]
     },
     "execution_count": 4,
     "metadata": {},
     "output_type": "execute_result"
    }
   ],
   "source": [
    "len(dir(list))"
   ]
  },
  {
   "cell_type": "code",
   "execution_count": 5,
   "metadata": {},
   "outputs": [
    {
     "name": "stdout",
     "output_type": "stream",
     "text": [
      "['A', 'B', 'C', 3]\n"
     ]
    }
   ],
   "source": [
    "# empty list \n",
    "names = []\n",
    "names.append(\"A\")\n",
    "names.append(\"B\")\n",
    "names.append(\"C\")\n",
    "names.append(3)\n",
    "print(names)"
   ]
  },
  {
   "cell_type": "code",
   "execution_count": 6,
   "metadata": {},
   "outputs": [
    {
     "name": "stdout",
     "output_type": "stream",
     "text": [
      "Enter Values = Pakistan\n",
      "['A', 'B', 'C', 3, 'Pakistan']\n"
     ]
    }
   ],
   "source": [
    "a = input(\"Enter Values = \")\n",
    "names.append(a)\n",
    "print(names)"
   ]
  },
  {
   "cell_type": "code",
   "execution_count": 7,
   "metadata": {},
   "outputs": [
    {
     "name": "stdout",
     "output_type": "stream",
     "text": [
      "['A', 'B', 'C']\n",
      "[]\n"
     ]
    }
   ],
   "source": [
    "names = [\"A\", \"B\", \"C\"]\n",
    "print(names)\n",
    "names.clear()\n",
    "print(names)"
   ]
  },
  {
   "cell_type": "code",
   "execution_count": 9,
   "metadata": {},
   "outputs": [
    {
     "name": "stdout",
     "output_type": "stream",
     "text": [
      "names =  ['A', 'B', 'C']\n",
      "names1 =  ['A', 'B', 'C']\n",
      "names =  ['Pakistan', 'B', 'C']\n",
      "names1 =  ['Pakistan', 'B', 'C']\n"
     ]
    }
   ],
   "source": [
    "names = [\"A\", \"B\", \"C\"]\n",
    "names1 = names   #shallow copy(address)\n",
    "\n",
    "print(\"names = \", names)\n",
    "print(\"names1 = \", names1)\n",
    "\n",
    "names[0]=\"Pakistan\"  \n",
    "print(\"names = \", names)\n",
    "print(\"names1 = \", names1)"
   ]
  },
  {
   "cell_type": "code",
   "execution_count": 10,
   "metadata": {},
   "outputs": [
    {
     "name": "stdout",
     "output_type": "stream",
     "text": [
      "names =  ['A', 'B', 'C']\n",
      "names1 =  ['A', 'B', 'C']\n",
      "names =  ['Pakistan', 'B', 'C']\n",
      "names1 =  ['A', 'B', 'C']\n"
     ]
    }
   ],
   "source": [
    "names = [\"A\", \"B\", \"C\"]\n",
    "names1 = names.copy()   #Deep copy\n",
    "\n",
    "print(\"names = \", names)\n",
    "print(\"names1 = \", names1)\n",
    "\n",
    "names[0]=\"Pakistan\"  \n",
    "print(\"names = \", names)\n",
    "print(\"names1 = \", names1)"
   ]
  },
  {
   "cell_type": "code",
   "execution_count": 13,
   "metadata": {},
   "outputs": [
    {
     "data": {
      "text/plain": [
       "1"
      ]
     },
     "execution_count": 13,
     "metadata": {},
     "output_type": "execute_result"
    }
   ],
   "source": [
    "names = [\"A\",\"B\",\"C\",\"D\"]\n",
    "names.count(\"A\")\n"
   ]
  },
  {
   "cell_type": "code",
   "execution_count": 14,
   "metadata": {},
   "outputs": [
    {
     "data": {
      "text/plain": [
       "2"
      ]
     },
     "execution_count": 14,
     "metadata": {},
     "output_type": "execute_result"
    }
   ],
   "source": [
    "names = [\"A\",\"B\",\"C\",\"A\"]\n",
    "names.count(\"A\")"
   ]
  },
  {
   "cell_type": "code",
   "execution_count": 15,
   "metadata": {},
   "outputs": [
    {
     "name": "stdout",
     "output_type": "stream",
     "text": [
      "[1, 2, 3, 4, 5, 6]\n",
      "[1, 2, 3]\n",
      "[4, 5, 6]\n"
     ]
    }
   ],
   "source": [
    "l1 = [1,2,3]\n",
    "l2 = [4,5,6]\n",
    "print(l1 + l2)  #inline operation\n",
    "\n",
    "print(l1)\n",
    "print(l2)"
   ]
  },
  {
   "cell_type": "code",
   "execution_count": 16,
   "metadata": {},
   "outputs": [
    {
     "name": "stdout",
     "output_type": "stream",
     "text": [
      "[1, 2, 3, 4, 5, 6]\n",
      "[4, 5, 6]\n"
     ]
    }
   ],
   "source": [
    "l1 = [1,2,3]\n",
    "l2 = [4,5,6]\n",
    "\n",
    "l1.extend(l2)  #In memory operation means real data update hua hai\n",
    "\n",
    "print(l1)\n",
    "print(l2)"
   ]
  },
  {
   "cell_type": "code",
   "execution_count": 19,
   "metadata": {},
   "outputs": [
    {
     "name": "stdout",
     "output_type": "stream",
     "text": [
      "1\n",
      "0\n",
      "6\n"
     ]
    }
   ],
   "source": [
    "l1 = [1,2,3,4,5,6,1]\n",
    "print(l1.index(2))\n",
    "print(l1.index(1))\n",
    "print(l1.index(1, 1))    #l1.index(1,1) starts with 1 and tell the index of next 1 in l1"
   ]
  },
  {
   "cell_type": "code",
   "execution_count": 21,
   "metadata": {},
   "outputs": [
    {
     "name": "stdout",
     "output_type": "stream",
     "text": [
      "[1, 2, 3, 4, 7, 6, 5]\n",
      "[1, 2, 3, 4, 7, 9, 6, 5]\n"
     ]
    }
   ],
   "source": [
    "l1 = [1,2,3,4]\n",
    "l1.insert(4, 5)\n",
    "l1.insert(4, 6)\n",
    "l1.insert(4, 7)   #4 index par (5,6,7) insert \n",
    "\n",
    "print(l1)\n",
    "\n",
    "l1.insert(5, 9)\n",
    "print(l1)"
   ]
  },
  {
   "cell_type": "code",
   "execution_count": 22,
   "metadata": {},
   "outputs": [
    {
     "name": "stdout",
     "output_type": "stream",
     "text": [
      "['A', 'B']\n"
     ]
    }
   ],
   "source": [
    "names= [\"A\", \"B\", \"C\", \"D\"]\n",
    "\n",
    "names.pop()  #return array with removing element from the end of the list\n",
    "names.pop()  #return\n",
    "\n",
    "print(names)"
   ]
  },
  {
   "cell_type": "code",
   "execution_count": null,
   "metadata": {},
   "outputs": [],
   "source": [
    "names= [\"A\", \"B\", \"C\", \"D\"]\n",
    "\n",
    "del names\n",
    "del names.pop()\n",
    "\n",
    "print(names)"
   ]
  },
  {
   "cell_type": "code",
   "execution_count": 23,
   "metadata": {},
   "outputs": [
    {
     "ename": "SyntaxError",
     "evalue": "invalid syntax (<ipython-input-23-a51e4f9bab43>, line 4)",
     "output_type": "error",
     "traceback": [
      "\u001b[1;36m  File \u001b[1;32m\"<ipython-input-23-a51e4f9bab43>\"\u001b[1;36m, line \u001b[1;32m4\u001b[0m\n\u001b[1;33m    l1.append(del names[-1])\u001b[0m\n\u001b[1;37m                ^\u001b[0m\n\u001b[1;31mSyntaxError\u001b[0m\u001b[1;31m:\u001b[0m invalid syntax\n"
     ]
    }
   ],
   "source": [
    "l1 = []\n",
    "names= [\"A\", \"B\", \"C\", \"D\"]\n",
    "\n",
    "l1.append(del names[-1])\n",
    "l1.append(del names[-1])\n",
    "l1.append(del names[-1])\n",
    "\n",
    "print(names)\n",
    "print(l1)"
   ]
  },
  {
   "cell_type": "code",
   "execution_count": 24,
   "metadata": {},
   "outputs": [
    {
     "name": "stdout",
     "output_type": "stream",
     "text": [
      "['A', 'B', 'C']\n",
      "['E', 'D']\n"
     ]
    }
   ],
   "source": [
    "l1 = []\n",
    "names= [\"A\", \"B\", \"C\", \"D\", \"E\"]\n",
    "\n",
    "a = names.pop()\n",
    "l1.append(a)  #return\n",
    "\n",
    "a = names.pop()\n",
    "l1.append(a)  #return\n",
    "\n",
    "print(names)\n",
    "print(l1)"
   ]
  },
  {
   "cell_type": "code",
   "execution_count": 25,
   "metadata": {},
   "outputs": [
    {
     "name": "stdout",
     "output_type": "stream",
     "text": [
      "pakistan\n",
      "None\n"
     ]
    }
   ],
   "source": [
    "a = print(\"pakistan\")\n",
    "print(a)"
   ]
  },
  {
   "cell_type": "code",
   "execution_count": 26,
   "metadata": {},
   "outputs": [
    {
     "name": "stdout",
     "output_type": "stream",
     "text": [
      "4\n"
     ]
    }
   ],
   "source": [
    "l1 = [1,2,3,4]\n",
    "a = l1.pop()\n",
    "print(a)"
   ]
  },
  {
   "cell_type": "code",
   "execution_count": 28,
   "metadata": {},
   "outputs": [
    {
     "name": "stdout",
     "output_type": "stream",
     "text": [
      "C\n"
     ]
    }
   ],
   "source": [
    "l1 = [\"A\", \"B\", \"C\", \"D\", \"E\"]\n",
    "a = l1.pop(2)   #pop() removes element by index\n",
    "print(a)"
   ]
  },
  {
   "cell_type": "code",
   "execution_count": 30,
   "metadata": {},
   "outputs": [
    {
     "name": "stdout",
     "output_type": "stream",
     "text": [
      "B\n"
     ]
    }
   ],
   "source": [
    "l1 = [\"A\", \"B\", \"C\", \"D\", \"E\"]\n",
    "\n",
    "l1.index(\"B\")  #B's index is 1\n",
    "\n",
    "a = l1.pop(l1.index(\"B\"))\n",
    "print(a)"
   ]
  },
  {
   "cell_type": "code",
   "execution_count": 31,
   "metadata": {},
   "outputs": [
    {
     "name": "stdout",
     "output_type": "stream",
     "text": [
      "None\n"
     ]
    }
   ],
   "source": [
    "l1 = [\"A\", \"B\", \"C\", \"D\", \"E\"]\n",
    "\n",
    "a = l1.remove(\"B\")  #non return\n",
    "print(a)"
   ]
  },
  {
   "cell_type": "code",
   "execution_count": null,
   "metadata": {},
   "outputs": [],
   "source": [
    "#remove anything from list can be done by two logic\n",
    "# 1) remove anything by index i.e pop()\n",
    "# 2) remove anything by value i.e remove()"
   ]
  },
  {
   "cell_type": "code",
   "execution_count": 33,
   "metadata": {},
   "outputs": [
    {
     "name": "stdout",
     "output_type": "stream",
     "text": [
      "['A', 'B', 'C', 'D', 'E']\n",
      "['E', 'D', 'C', 'B', 'A']\n"
     ]
    }
   ],
   "source": [
    "l1 = [\"A\", \"B\", \"C\", \"D\", \"E\"]\n",
    "print(l1)\n",
    "l1.reverse()\n",
    "print(l1)"
   ]
  },
  {
   "cell_type": "code",
   "execution_count": 35,
   "metadata": {},
   "outputs": [
    {
     "name": "stdout",
     "output_type": "stream",
     "text": [
      "['A', 'B', 'Z', 'Y', 'X']\n",
      "['A', 'B', 'X', 'Y', 'Z']\n"
     ]
    }
   ],
   "source": [
    "l1 = [\"A\", \"B\", \"Z\", \"Y\", \"X\"]\n",
    "print(l1)\n",
    "l1.sort()  #sort in order ascending or descending\n",
    "print(l1)"
   ]
  },
  {
   "cell_type": "code",
   "execution_count": 36,
   "metadata": {},
   "outputs": [
    {
     "name": "stdout",
     "output_type": "stream",
     "text": [
      "['A', 'B', 'C', 'Z', 'Y', 'X']\n",
      "['Z', 'Y', 'X', 'C', 'B', 'A']\n"
     ]
    }
   ],
   "source": [
    "l1 = [\"A\", \"B\", \"C\", \"Z\", \"Y\", \"X\"]\n",
    "print(l1)\n",
    "l1.sort(reverse=True)  #sort in order ascending or descending\n",
    "print(l1)"
   ]
  },
  {
   "cell_type": "code",
   "execution_count": 39,
   "metadata": {},
   "outputs": [
    {
     "name": "stdout",
     "output_type": "stream",
     "text": [
      "['Z', 'Y', 'X', 'C', 'B', 'A', 'Wahab', 'Wahab']\n",
      "['Z', 'Y', 'X', 'C', 'B', 'A', 'Wahab', 'Wahab', 'Wahab']\n"
     ]
    }
   ],
   "source": [
    "print(l1)\n",
    "l1.append(\"Wahab\")\n",
    "print(l1)"
   ]
  },
  {
   "cell_type": "code",
   "execution_count": 41,
   "metadata": {},
   "outputs": [
    {
     "name": "stdout",
     "output_type": "stream",
     "text": [
      "[]\n"
     ]
    }
   ],
   "source": [
    "l1.clear()\n",
    "print(l1)"
   ]
  },
  {
   "cell_type": "code",
   "execution_count": 47,
   "metadata": {},
   "outputs": [
    {
     "name": "stdout",
     "output_type": "stream",
     "text": [
      "[1, 2, 3]\n"
     ]
    }
   ],
   "source": [
    "l2=[1,2,3]\n",
    "l1 = []\n",
    "l1= l2.copy()\n",
    "\n",
    "print(l1)"
   ]
  },
  {
   "cell_type": "code",
   "execution_count": 48,
   "metadata": {},
   "outputs": [
    {
     "data": {
      "text/plain": [
       "['A', 'B', 'D', 'E']"
      ]
     },
     "execution_count": 48,
     "metadata": {},
     "output_type": "execute_result"
    }
   ],
   "source": [
    "l1 = [\"A\", \"B\"]\n",
    "l1.__add__([\"D\", \"E\"])"
   ]
  },
  {
   "cell_type": "code",
   "execution_count": 50,
   "metadata": {},
   "outputs": [
    {
     "data": {
      "text/plain": [
       "False"
      ]
     },
     "execution_count": 50,
     "metadata": {},
     "output_type": "execute_result"
    }
   ],
   "source": [
    "l1.__contains__(\"E\")"
   ]
  },
  {
   "cell_type": "code",
   "execution_count": 52,
   "metadata": {},
   "outputs": [
    {
     "name": "stdout",
     "output_type": "stream",
     "text": [
      "Help on class list in module builtins:\n",
      "\n",
      "class list(object)\n",
      " |  list(iterable=(), /)\n",
      " |  \n",
      " |  Built-in mutable sequence.\n",
      " |  \n",
      " |  If no argument is given, the constructor creates a new empty list.\n",
      " |  The argument must be an iterable if specified.\n",
      " |  \n",
      " |  Methods defined here:\n",
      " |  \n",
      " |  __add__(self, value, /)\n",
      " |      Return self+value.\n",
      " |  \n",
      " |  __contains__(self, key, /)\n",
      " |      Return key in self.\n",
      " |  \n",
      " |  __delitem__(self, key, /)\n",
      " |      Delete self[key].\n",
      " |  \n",
      " |  __eq__(self, value, /)\n",
      " |      Return self==value.\n",
      " |  \n",
      " |  __ge__(self, value, /)\n",
      " |      Return self>=value.\n",
      " |  \n",
      " |  __getattribute__(self, name, /)\n",
      " |      Return getattr(self, name).\n",
      " |  \n",
      " |  __getitem__(...)\n",
      " |      x.__getitem__(y) <==> x[y]\n",
      " |  \n",
      " |  __gt__(self, value, /)\n",
      " |      Return self>value.\n",
      " |  \n",
      " |  __iadd__(self, value, /)\n",
      " |      Implement self+=value.\n",
      " |  \n",
      " |  __imul__(self, value, /)\n",
      " |      Implement self*=value.\n",
      " |  \n",
      " |  __init__(self, /, *args, **kwargs)\n",
      " |      Initialize self.  See help(type(self)) for accurate signature.\n",
      " |  \n",
      " |  __iter__(self, /)\n",
      " |      Implement iter(self).\n",
      " |  \n",
      " |  __le__(self, value, /)\n",
      " |      Return self<=value.\n",
      " |  \n",
      " |  __len__(self, /)\n",
      " |      Return len(self).\n",
      " |  \n",
      " |  __lt__(self, value, /)\n",
      " |      Return self<value.\n",
      " |  \n",
      " |  __mul__(self, value, /)\n",
      " |      Return self*value.\n",
      " |  \n",
      " |  __ne__(self, value, /)\n",
      " |      Return self!=value.\n",
      " |  \n",
      " |  __repr__(self, /)\n",
      " |      Return repr(self).\n",
      " |  \n",
      " |  __reversed__(self, /)\n",
      " |      Return a reverse iterator over the list.\n",
      " |  \n",
      " |  __rmul__(self, value, /)\n",
      " |      Return value*self.\n",
      " |  \n",
      " |  __setitem__(self, key, value, /)\n",
      " |      Set self[key] to value.\n",
      " |  \n",
      " |  __sizeof__(self, /)\n",
      " |      Return the size of the list in memory, in bytes.\n",
      " |  \n",
      " |  append(self, object, /)\n",
      " |      Append object to the end of the list.\n",
      " |  \n",
      " |  clear(self, /)\n",
      " |      Remove all items from list.\n",
      " |  \n",
      " |  copy(self, /)\n",
      " |      Return a shallow copy of the list.\n",
      " |  \n",
      " |  count(self, value, /)\n",
      " |      Return number of occurrences of value.\n",
      " |  \n",
      " |  extend(self, iterable, /)\n",
      " |      Extend list by appending elements from the iterable.\n",
      " |  \n",
      " |  index(self, value, start=0, stop=9223372036854775807, /)\n",
      " |      Return first index of value.\n",
      " |      \n",
      " |      Raises ValueError if the value is not present.\n",
      " |  \n",
      " |  insert(self, index, object, /)\n",
      " |      Insert object before index.\n",
      " |  \n",
      " |  pop(self, index=-1, /)\n",
      " |      Remove and return item at index (default last).\n",
      " |      \n",
      " |      Raises IndexError if list is empty or index is out of range.\n",
      " |  \n",
      " |  remove(self, value, /)\n",
      " |      Remove first occurrence of value.\n",
      " |      \n",
      " |      Raises ValueError if the value is not present.\n",
      " |  \n",
      " |  reverse(self, /)\n",
      " |      Reverse *IN PLACE*.\n",
      " |  \n",
      " |  sort(self, /, *, key=None, reverse=False)\n",
      " |      Stable sort *IN PLACE*.\n",
      " |  \n",
      " |  ----------------------------------------------------------------------\n",
      " |  Static methods defined here:\n",
      " |  \n",
      " |  __new__(*args, **kwargs) from builtins.type\n",
      " |      Create and return a new object.  See help(type) for accurate signature.\n",
      " |  \n",
      " |  ----------------------------------------------------------------------\n",
      " |  Data and other attributes defined here:\n",
      " |  \n",
      " |  __hash__ = None\n",
      "\n"
     ]
    }
   ],
   "source": [
    "help(list)"
   ]
  },
  {
   "cell_type": "code",
   "execution_count": 53,
   "metadata": {},
   "outputs": [
    {
     "name": "stdout",
     "output_type": "stream",
     "text": [
      "['A', 'C']\n"
     ]
    }
   ],
   "source": [
    "l1=[\"A\", \"B\", \"C\"]\n",
    "l1.__delitem__(1)\n",
    "print(l1)"
   ]
  },
  {
   "cell_type": "code",
   "execution_count": 56,
   "metadata": {},
   "outputs": [
    {
     "name": "stdout",
     "output_type": "stream",
     "text": [
      "False\n",
      "True\n"
     ]
    }
   ],
   "source": [
    "l1=[5, 8, 9]\n",
    "l2=[3, 2, 1]\n",
    "l3=[7, 9, 10]\n",
    "l4=[5, 8, 9]\n",
    "\n",
    "print(l1.__eq__(l2))\n",
    "print(l1.__eq__(l4))"
   ]
  },
  {
   "cell_type": "code",
   "execution_count": 57,
   "metadata": {},
   "outputs": [
    {
     "name": "stdout",
     "output_type": "stream",
     "text": [
      "('A', 'B', 'C')\n"
     ]
    }
   ],
   "source": [
    "#Tuple\n",
    "l1=(\"A\", \"B\", \"C\")\n",
    "print(l1)\n"
   ]
  },
  {
   "cell_type": "markdown",
   "metadata": {},
   "source": [
    "# Loop (while, for)\n",
    "### counter\n",
    "### Logic\n",
    "### increment"
   ]
  },
  {
   "cell_type": "code",
   "execution_count": 59,
   "metadata": {},
   "outputs": [
    {
     "name": "stdout",
     "output_type": "stream",
     "text": [
      "counter=  1\n",
      "counter=  2\n",
      "counter=  3\n",
      "counter=  4\n",
      "counter=  5\n",
      "counter=  6\n",
      "counter=  7\n",
      "counter=  8\n",
      "counter=  9\n",
      "counter=  10\n"
     ]
    }
   ],
   "source": [
    "counter = 1  #counter\n",
    "while counter<=10:   #logic\n",
    "    print(\"counter= \", counter)\n",
    "    counter+=1    #increment"
   ]
  },
  {
   "cell_type": "code",
   "execution_count": 60,
   "metadata": {},
   "outputs": [
    {
     "name": "stdout",
     "output_type": "stream",
     "text": [
      "counter=  1000\n",
      "counter=  999\n",
      "counter=  998\n",
      "counter=  997\n",
      "counter=  996\n",
      "counter=  995\n",
      "counter=  994\n",
      "counter=  993\n",
      "counter=  992\n",
      "counter=  991\n",
      "counter=  990\n"
     ]
    }
   ],
   "source": [
    "counter = 1000  #counter\n",
    "while counter>=990:   #logic\n",
    "    print(\"counter= \", counter)\n",
    "    counter-=1"
   ]
  },
  {
   "cell_type": "code",
   "execution_count": 61,
   "metadata": {},
   "outputs": [
    {
     "data": {
      "text/plain": [
       "[1, 2, 3, 4, 5, 6, 7, 8, 9, 10]"
      ]
     },
     "execution_count": 61,
     "metadata": {},
     "output_type": "execute_result"
    }
   ],
   "source": [
    "list(range(1,11))"
   ]
  },
  {
   "cell_type": "code",
   "execution_count": 62,
   "metadata": {},
   "outputs": [
    {
     "name": "stdout",
     "output_type": "stream",
     "text": [
      "counter =  1\n",
      "counter =  2\n",
      "counter =  3\n",
      "counter =  4\n",
      "counter =  5\n",
      "counter =  6\n",
      "counter =  7\n",
      "counter =  8\n",
      "counter =  9\n",
      "counter =  10\n"
     ]
    }
   ],
   "source": [
    "for i in range(1,11):\n",
    "    print(\"counter = \", i)"
   ]
  },
  {
   "cell_type": "code",
   "execution_count": 63,
   "metadata": {},
   "outputs": [
    {
     "data": {
      "text/plain": [
       "[1, 2, 3, 4, 5, 6, 7, 8, 9, 10]"
      ]
     },
     "execution_count": 63,
     "metadata": {},
     "output_type": "execute_result"
    }
   ],
   "source": [
    "[i for i in range(1,11)]"
   ]
  },
  {
   "cell_type": "code",
   "execution_count": 65,
   "metadata": {},
   "outputs": [
    {
     "name": "stdout",
     "output_type": "stream",
     "text": [
      "Enter number = 2\n",
      "2 * 1 = 2\n",
      "2 * 2 = 4\n",
      "2 * 3 = 6\n",
      "2 * 4 = 8\n",
      "2 * 5 = 10\n",
      "2 * 6 = 12\n",
      "2 * 7 = 14\n",
      "2 * 8 = 16\n",
      "2 * 9 = 18\n",
      "2 * 10 = 20\n"
     ]
    }
   ],
   "source": [
    "table = int(input(\"Enter number = \"))\n",
    "for i in range(1,11):\n",
    "    print(table, \"*\", i, \"=\", table*i)"
   ]
  },
  {
   "cell_type": "code",
   "execution_count": 1,
   "metadata": {},
   "outputs": [
    {
     "name": "stdout",
     "output_type": "stream",
     "text": [
      "Enter Number = 2\n",
      "Enter the number for table5\n",
      "5 * 0 = 5\n",
      "5 * 0 = 10\n",
      "5 * 0 = 15\n",
      "5 * 0 = 20\n",
      "5 * 0 = 25\n",
      "5 * 0 = 30\n",
      "5 * 0 = 35\n",
      "5 * 0 = 40\n",
      "5 * 0 = 45\n",
      "5 * 0 = 50\n",
      "Enter the number for table10\n",
      "10 * 1 = 10\n",
      "10 * 1 = 20\n",
      "10 * 1 = 30\n",
      "10 * 1 = 40\n",
      "10 * 1 = 50\n",
      "10 * 1 = 60\n",
      "10 * 1 = 70\n",
      "10 * 1 = 80\n",
      "10 * 1 = 90\n",
      "10 * 1 = 100\n",
      "Enter the number for table12\n",
      "12 * 2 = 12\n",
      "12 * 2 = 24\n",
      "12 * 2 = 36\n",
      "12 * 2 = 48\n",
      "12 * 2 = 60\n",
      "12 * 2 = 72\n",
      "12 * 2 = 84\n",
      "12 * 2 = 96\n",
      "12 * 2 = 108\n",
      "12 * 2 = 120\n"
     ]
    }
   ],
   "source": [
    "user_input = int(input(\"Enter Number = \"))\n",
    "for t in range(user_input + 1):\n",
    "    table = int(input(\"Enter the number for table= \"))\n",
    "    for n in  range(1, 11):\n",
    "        print(table, \"*\", t, \"=\", table*n)"
   ]
  },
  {
   "cell_type": "code",
   "execution_count": 1,
   "metadata": {},
   "outputs": [
    {
     "name": "stdout",
     "output_type": "stream",
     "text": [
      "Enter Number2\n",
      "1 X 1= 1\n",
      "1 X 2= 2\n",
      "1 X 3= 3\n",
      "1 X 4= 4\n",
      "1 X 5= 5\n",
      "1 X 6= 6\n",
      "1 X 7= 7\n",
      "1 X 8= 8\n",
      "1 X 9= 9\n",
      "1 X 10= 10\n",
      "2 X 1= 2\n",
      "2 X 2= 4\n",
      "2 X 3= 6\n",
      "2 X 4= 8\n",
      "2 X 5= 10\n",
      "2 X 6= 12\n",
      "2 X 7= 14\n",
      "2 X 8= 16\n",
      "2 X 9= 18\n",
      "2 X 10= 20\n"
     ]
    }
   ],
   "source": [
    "user_input = int(input(\"Enter Number\"))\n",
    "\n",
    "for t in range(1, user_input + 1):\n",
    "    for n in range(1,11):\n",
    "        print(f'{t} X {n}= {t*n}')"
   ]
  },
  {
   "cell_type": "code",
   "execution_count": 5,
   "metadata": {},
   "outputs": [
    {
     "name": "stdout",
     "output_type": "stream",
     "text": [
      "Enter Number2\n",
      "1X1=1\t2X1=2\t\n",
      "1X2=2\t2X2=4\t\n",
      "1X3=3\t2X3=6\t\n",
      "1X4=4\t2X4=8\t\n",
      "1X5=5\t2X5=10\t\n",
      "1X6=6\t2X6=12\t\n",
      "1X7=7\t2X7=14\t\n",
      "1X8=8\t2X8=16\t\n",
      "1X9=9\t2X9=18\t\n",
      "1X10=10\t2X10=20\t\n"
     ]
    }
   ],
   "source": [
    "user = int(input(\"Enter Number\"))\n",
    "for r in range(1,11):\n",
    "    #r=1\n",
    "    for t in range(1, user + 1):\n",
    "        #t=1\n",
    "        print(f'{t}X{r}={r*t}', end='\\t')\n",
    "    print()"
   ]
  },
  {
   "cell_type": "code",
   "execution_count": null,
   "metadata": {},
   "outputs": [],
   "source": []
  }
 ],
 "metadata": {
  "kernelspec": {
   "display_name": "Python 3",
   "language": "python",
   "name": "python3"
  },
  "language_info": {
   "codemirror_mode": {
    "name": "ipython",
    "version": 3
   },
   "file_extension": ".py",
   "mimetype": "text/x-python",
   "name": "python",
   "nbconvert_exporter": "python",
   "pygments_lexer": "ipython3",
   "version": "3.7.4"
  }
 },
 "nbformat": 4,
 "nbformat_minor": 2
}
